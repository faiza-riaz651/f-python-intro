{
  "nbformat": 4,
  "nbformat_minor": 0,
  "metadata": {
    "colab": {
      "provenance": []
    },
    "kernelspec": {
      "name": "python3",
      "display_name": "Python 3"
    },
    "language_info": {
      "name": "python"
    }
  },
  "cells": [
    {
      "cell_type": "code",
      "execution_count": 3,
      "metadata": {
        "colab": {
          "base_uri": "https://localhost:8080/"
        },
        "id": "ojiX8CVHXU_Q",
        "outputId": "4fdd64ec-11df-4c29-9703-63e1f05b99d4"
      },
      "outputs": [
        {
          "output_type": "stream",
          "name": "stdout",
          "text": [
            "3 []\n",
            "1\n",
            "2\n",
            "3\n",
            "applw\n",
            "True\n",
            "present\n",
            "5\n",
            "[True, 'applw', 3, 2, 1]\n"
          ]
        }
      ],
      "source": [
        "#LIST\n",
        "#allow mutable, duplicate data\n",
        "x=[1,2,3,'applw',True]\n",
        "\n",
        "y=list()\n",
        "\n",
        "print(x[-3],y)\n",
        "\n",
        "# iteration\n",
        "for i in x:\n",
        "  print(i)\n",
        "\n",
        "# in operator and len operator\n",
        "if 1 in x:\n",
        "  print('present')\n",
        "else:\n",
        "  print('absent')\n",
        "\n",
        "print(len(x))\n",
        "\n",
        "#Functions on list:\n",
        "\n",
        "\"\"\" append(item)-->adds to the end of list\n",
        "    insert(index,item)==>adds to a specific index\n",
        "    pop()==>removes the last element from list\n",
        "    remove(item)--->remove a specific item but throws a values errro in case of absence of item\n",
        "    sort()-->sort the list in place\n",
        "    sorted(list)-->create a neew list that is sorted\n",
        "    clear(list)-->clear the list\n",
        "    reverse()-->reverse the order of list\"\"\"\n",
        "\n",
        "# Some more operations\n",
        "# Slicing:create s new list\n",
        "\n",
        "z=x[::-1]\n",
        "print(z)\n",
        "# copy methos of list creates a new list\n",
        "# concatenation of lists list1+list2\n",
        "#list comprehension\n",
        "\n"
      ]
    },
    {
      "cell_type": "code",
      "source": [
        "# tuple: immutable,ordered collection of objects\n",
        "a=tuple([1,2,3,4])\n",
        "b=tuple('abc',) # for tuple of one value follow the syntax\n",
        "\n",
        "try:\n",
        "  b[0]='abc'\n",
        "except Exception as e:\n",
        "  print(f'tuple is immutable : {e}')\n",
        "\n",
        "print(a[0])\n",
        "\n",
        "# iteration,len and in same as everyother sequence of python\n",
        "\n",
        "# tuple method\n",
        "print(a.count(0))\n",
        "\n",
        "\"\"\"count(item)--->to count the frequency of item in a tuple\n",
        "    index(item)--->return the index of item in a tuple, can throw a valueerror too\n",
        "\"\"\"\n",
        "\n",
        "# other op:\n",
        "# slicingg,unpacking\n",
        "x,*y=a\n",
        "print(x)\n",
        "print(y)\n",
        "# tuple are more efficient in creation time and space in memory than lists are\n",
        "c=(0,9,8,7)\n",
        "d=[0,9,8,7]\n",
        "import sys\n",
        "print(sys.getsizeof(c),'bytes')\n",
        "print(sys.getsizeof(d),'bytes')"
      ],
      "metadata": {
        "colab": {
          "base_uri": "https://localhost:8080/"
        },
        "id": "c-mj7ESobeqU",
        "outputId": "8541cab7-938b-44c6-8f2d-1e875ae31fdc"
      },
      "execution_count": 9,
      "outputs": [
        {
          "output_type": "stream",
          "name": "stdout",
          "text": [
            "tuple is immutable : 'tuple' object does not support item assignment\n",
            "1\n",
            "0\n",
            "1\n",
            "[2, 3, 4]\n",
            "72 bytes\n",
            "88 bytes\n"
          ]
        }
      ]
    },
    {
      "cell_type": "code",
      "source": [
        "#dictionaries are mutable,unordered, key:val pair datatypes\n",
        "dict1={'name':'faiza','city':'pindi','university':'PIEAS',1:'eferwfer'}\n",
        "dict2=dict(a='apple',b='bananaa')\n",
        "\n",
        "print(dict1)\n",
        "print(dict2)\n",
        "\n",
        "for key in dict1:\n",
        "  print(type(key))\n",
        "\n",
        "# accessing the item\n",
        "print(dict1[1])\n",
        "print(dict1.get('name'))\n",
        "\n",
        "#deleting in dict\n",
        "del dict1[1]\n",
        "print(dict1)\n",
        "# pop(key ) can also remove the key value pair\n",
        "\n",
        "# adding\n",
        "dict1['email']='faiza@gmail.com'\n",
        "\n",
        "# in operator\n",
        "# iteration: keys()-->return the kesy in a dict, values() -->return values in a dict, items()-->return key,val pair in a dict\n",
        "# copying a dict by assingment operator or by copy method or new_dict=dict(old_dict)--->return a new dict"
      ],
      "metadata": {
        "colab": {
          "base_uri": "https://localhost:8080/"
        },
        "id": "f0IbhCOtg8Vw",
        "outputId": "16af3a18-06f3-498e-cecc-dd1004c7ad20"
      },
      "execution_count": 14,
      "outputs": [
        {
          "output_type": "stream",
          "name": "stdout",
          "text": [
            "{'name': 'faiza', 'city': 'pindi', 'university': 'PIEAS', 1: 'eferwfer'}\n",
            "{'a': 'apple', 'b': 'bananaa'}\n",
            "<class 'str'>\n",
            "<class 'str'>\n",
            "<class 'str'>\n",
            "<class 'int'>\n",
            "eferwfer\n",
            "faiza\n",
            "{'name': 'faiza', 'city': 'pindi', 'university': 'PIEAS'}\n"
          ]
        }
      ]
    },
    {
      "cell_type": "code",
      "source": [
        "#sets:unordered, unique, mutable\n",
        "\n",
        "set1=set()\n",
        "set2={1,2,3,1,2,3,4}\n",
        "print(set1,set2)\n",
        "\n",
        "# ading into aset\n",
        "set1.add(5)\n",
        "# removing: can also cause a keyerror, so better to use discard instead\n",
        "set2.remove(3)\n",
        "print(set1)\n",
        "print(set2)\n",
        "\n",
        "# clear:clear the set, pop()--->return the arbitrary value from set and also remove it too\n",
        "\n",
        "# iteration,in operator,len\n",
        "print(len(set2))\n",
        "\n",
        "# mathematical op: union,intersection,difference and symmetrci difference---> return new set\n",
        "\n",
        "# to change the set in place: use update\n",
        "print(set1.update(set2))\n",
        "print(set1)\n",
        "# intersection update,difference_update method,issubset,issuperset,isdisjoint\n",
        "\n",
        "# copy by assingment, by set const, by copy method\n",
        "\n",
        "# frozenset"
      ],
      "metadata": {
        "colab": {
          "base_uri": "https://localhost:8080/"
        },
        "id": "4nIUJ4AOlOXY",
        "outputId": "0202fc20-2c34-449b-bd51-598e6c70a213"
      },
      "execution_count": 20,
      "outputs": [
        {
          "output_type": "stream",
          "name": "stdout",
          "text": [
            "set() {1, 2, 3, 4}\n",
            "{5}\n",
            "{1, 2, 4}\n",
            "3\n",
            "None\n",
            "{1, 2, 4, 5}\n"
          ]
        }
      ]
    },
    {
      "cell_type": "code",
      "source": [
        "# Strings: immutable, ordered\n",
        "s1='hello world'\n",
        "print(s1[4])\n",
        "chars=s1[:6:2]\n",
        "print(chars)\n",
        "\n",
        "# iteration,in operator(can check single char single word or arbitrary sequence of chars(substring)), concatenation\n",
        "\n",
        "# method of string:upper,lower,strip,find(item)-> (find the index of item),endswith(char oe seq of char),statswith(same)\n",
        "\n",
        "# replcae(item,newitem),count(item)\n",
        "\n",
        "# split(delimter)-->default : a whitespace ' ', split convert a string in to list\n",
        "s2='my name is faiza riaz'\n",
        "s3=s2.split()\n",
        "print(s3)\n",
        "\n",
        "# convert a list to string\n",
        "s4=','.join(s3)\n",
        "print(s4)"
      ],
      "metadata": {
        "colab": {
          "base_uri": "https://localhost:8080/"
        },
        "id": "z37PEoqjogzE",
        "outputId": "7ede6bc4-7a0a-481d-8fff-92c8bbec5be1"
      },
      "execution_count": 24,
      "outputs": [
        {
          "output_type": "stream",
          "name": "stdout",
          "text": [
            "o\n",
            "hlo\n",
            "['my', 'name', 'is', 'faiza', 'riaz']\n",
            "my,name,is,faiza,riaz\n"
          ]
        }
      ]
    },
    {
      "cell_type": "code",
      "source": [
        "# Collecion module implement special continer types:examples.....\n",
        "from collections import Counter # keeps items as keys and their count of those keys as count\n",
        "a='asauwhdw hwdqwhdiqwd cncn'\n",
        "counter=Counter(a)\n",
        "print(counter)\n",
        "\n",
        "# can get values and keys iterable by keys and values method\n",
        "# can also see most common(most frequent) with highes value of counter\n",
        "print(counter.most_common(2)) #-->return the list ith tuples\n",
        "print(counter.most_common(1)[0][1])\n",
        "\n",
        "x=['cat','bat','rat','sat']\n",
        "counterx=Counter(x)\n",
        "print(counterx)"
      ],
      "metadata": {
        "colab": {
          "base_uri": "https://localhost:8080/"
        },
        "id": "SDaB7D2Wy4EB",
        "outputId": "80757ce1-6fba-4229-8528-fe700649d83c"
      },
      "execution_count": 32,
      "outputs": [
        {
          "output_type": "stream",
          "name": "stdout",
          "text": [
            "Counter({'w': 5, 'd': 4, 'h': 3, 'a': 2, ' ': 2, 'q': 2, 'c': 2, 'n': 2, 's': 1, 'u': 1, 'i': 1})\n",
            "[('w', 5), ('d', 4)]\n",
            "5\n",
            "Counter({'cat': 1, 'bat': 1, 'rat': 1, 'sat': 1})\n"
          ]
        }
      ]
    },
    {
      "cell_type": "code",
      "source": [
        "from collections import namedtuple\n",
        "Grocery=namedtuple('Grocery','oil bananas vegetables herbs')\n",
        "grocery=Grocery(1,vegetables=2,bananas=4,herbs=7)\n",
        "print(grocery)\n",
        "\n",
        "# namedtuple is a subclass of tuple so...\n",
        "x,*y=grocery\n",
        "print(x)\n",
        "print(y)\n",
        "\n",
        "print(grocery.bananas)\n",
        "\n"
      ],
      "metadata": {
        "colab": {
          "base_uri": "https://localhost:8080/"
        },
        "id": "XJDJVl0dekaR",
        "outputId": "ea2aa2ac-4cd8-479c-f874-5059b7e83486"
      },
      "execution_count": 8,
      "outputs": [
        {
          "output_type": "stream",
          "name": "stdout",
          "text": [
            "Grocery(oil=1, bananas=4, vegetables=2, herbs=7)\n",
            "1\n",
            "[4, 2, 7]\n",
            "4\n"
          ]
        }
      ]
    },
    {
      "cell_type": "code",
      "source": [
        "from collections import OrderedDict\n",
        "\n",
        "# orderdict:remembers the order items were added, add he items in same order as added by user\n",
        "# less relevant in python version 3.7 and above bcz ordinary dict do that too\n",
        "# a subclass of dict class\n",
        "ordered_dict=OrderedDict()\n",
        "ordered_dict[0]='a'\n",
        "ordered_dict[1]='b'\n",
        "print(ordered_dict)"
      ],
      "metadata": {
        "colab": {
          "base_uri": "https://localhost:8080/"
        },
        "id": "Vfhu3tMMgsS9",
        "outputId": "8afb3705-f850-481f-97eb-12a59a52a817"
      },
      "execution_count": 10,
      "outputs": [
        {
          "output_type": "stream",
          "name": "stdout",
          "text": [
            "OrderedDict([(0, 'a'), (1, 'b')])\n"
          ]
        }
      ]
    },
    {
      "cell_type": "code",
      "source": [
        "from collections import defaultdict\n",
        "\n",
        "# provides the deafult values for a non existing key when accessed by [ ]\n",
        "dicto=defaultdict(int)\n",
        "dicto['a']=1\n",
        "dicto['b']=2\n",
        "print(dicto)\n",
        "print(dicto['c'])"
      ],
      "metadata": {
        "colab": {
          "base_uri": "https://localhost:8080/"
        },
        "id": "H2yeT8IHiO0u",
        "outputId": "0efc2036-5ac3-4e7d-edbb-cd6a6966f945"
      },
      "execution_count": 11,
      "outputs": [
        {
          "output_type": "stream",
          "name": "stdout",
          "text": [
            "defaultdict(<class 'int'>, {'a': 1, 'b': 2})\n",
            "0\n"
          ]
        }
      ]
    },
    {
      "cell_type": "code",
      "source": [
        "from collections import deque\n",
        "\n",
        "# list like container with fast pop and append on btoh sides\n",
        "d=deque()\n",
        "d.append(0)\n",
        "d.append(2)\n",
        "d.appendleft(3)\n",
        "print(d)\n",
        "d.pop() #popleft\n",
        "print(d)\n",
        "d.extendleft([1,2,3,4])\n",
        "print(d)"
      ],
      "metadata": {
        "colab": {
          "base_uri": "https://localhost:8080/"
        },
        "id": "r8myz7y9jblk",
        "outputId": "6ff93374-f1f0-4fdf-d384-e643378e8126"
      },
      "execution_count": 15,
      "outputs": [
        {
          "output_type": "stream",
          "name": "stdout",
          "text": [
            "deque([3, 0, 2])\n",
            "deque([3, 0])\n",
            "deque([4, 3, 2, 1, 3, 0])\n"
          ]
        }
      ]
    },
    {
      "cell_type": "code",
      "source": [
        "#Generators\n",
        "def gen_string(sentence):\n",
        "  words=sentence.split()\n",
        "  index=0\n",
        "  while index <len(sentence):\n",
        "\n",
        "    yield words[index]\n",
        "    index=index+1\n",
        "  else:\n",
        "    raise StopIteration\n",
        "\n",
        "\n",
        "\n",
        "sentence=gen_string('my name is faiza')\n",
        "try:\n",
        "  print(next(sentence))\n",
        "  print(next(sentence))\n",
        "  print(next(sentence))\n",
        "  print(next(sentence))\n",
        "  print(next(sentence))\n",
        "except Exception as e:\n",
        "  print(f'stop iteration: {e}')"
      ],
      "metadata": {
        "colab": {
          "base_uri": "https://localhost:8080/"
        },
        "id": "In0sYR8CvB7I",
        "outputId": "ea9312f4-4a57-473b-a8aa-3a3278798134"
      },
      "execution_count": 23,
      "outputs": [
        {
          "output_type": "stream",
          "name": "stdout",
          "text": [
            "my\n",
            "name\n",
            "is\n",
            "faiza\n",
            "stop iteration: list index out of range\n"
          ]
        }
      ]
    },
    {
      "cell_type": "code",
      "source": [
        "#itertools a module to handle and provide many iterators\n",
        "from itertools import product,permutations,combinations,combinations_with_replacement\n",
        "\n",
        "# product provide the cartesean product of 2 iterable\n",
        "# equivalen to nested loop in python\n",
        "a=[1,2,3]\n",
        "b=['a','b']\n",
        "prod=product(a,b)\n",
        "prod_self=product(a,repeat=2)\n",
        "print(list(prod_self))\n",
        "\n",
        "print(list(prod))\n",
        "\n",
        "# permutations:non-repeated subset of product,order matters\n",
        "perm=permutations(a,2)\n",
        "print(list(perm))\n",
        "\n",
        "# combinations: no repetion, order does not matter\n",
        "comb=combinations(a,2)\n",
        "print(list(comb))\n",
        "\n",
        "# order odese not matter,repetition allowed\n",
        "comb_wr=combinations_with_replacement(a,2)\n",
        "print(list(comb_wr))"
      ],
      "metadata": {
        "colab": {
          "base_uri": "https://localhost:8080/"
        },
        "id": "29BrhMrq0ajM",
        "outputId": "4d9c0866-0b87-42c7-949a-e99fbec5806a"
      },
      "execution_count": 45,
      "outputs": [
        {
          "output_type": "stream",
          "name": "stdout",
          "text": [
            "[(1, 1), (1, 2), (1, 3), (2, 1), (2, 2), (2, 3), (3, 1), (3, 2), (3, 3)]\n",
            "[(1, 'a'), (1, 'b'), (2, 'a'), (2, 'b'), (3, 'a'), (3, 'b')]\n",
            "[(1, 2), (1, 3), (2, 1), (2, 3), (3, 1), (3, 2)]\n",
            "[(1, 2), (1, 3), (2, 3)]\n",
            "[(1, 1), (1, 2), (1, 3), (2, 2), (2, 3), (3, 3)]\n"
          ]
        }
      ]
    },
    {
      "cell_type": "code",
      "source": [
        "# lambda functions:nameless function that are small\n",
        "# lambda are used in higher order function\n",
        "\n",
        "# lambda arg: expression\n",
        "\n",
        "a=[1,2,3,4,5,6]\n",
        "b=map(lambda x:x*2,a)\n",
        "print(list(b))\n",
        "\n",
        "c=filter(lambda x:x%2==0,a)\n",
        "print(list(c))\n",
        "\n",
        "x=lambda y=6:y*56\n",
        "print(x(67))"
      ],
      "metadata": {
        "colab": {
          "base_uri": "https://localhost:8080/"
        },
        "id": "1DiwYlcn8ssD",
        "outputId": "cf4ab2f2-6398-49a2-d3a3-72dc0bd3f1bc"
      },
      "execution_count": 54,
      "outputs": [
        {
          "output_type": "stream",
          "name": "stdout",
          "text": [
            "[2, 4, 6, 8, 10, 12]\n",
            "[2, 4, 6]\n",
            "3752\n"
          ]
        }
      ]
    },
    {
      "cell_type": "code",
      "source": [
        "# errors and exception: syntax errors in code causse error\n",
        "# even when syntax is correct it may cause error called exception\n",
        "# many built in exeption in python alll inheritin from base class Exception...look up the docs\n",
        "# use try catch raise assert--->evaluate an exprssion and if false throe Assertion Error\n",
        "# we cn make our own custom exception by inheritin from exception class"
      ],
      "metadata": {
        "id": "3EisP9J4AQje"
      },
      "execution_count": null,
      "outputs": []
    },
    {
      "cell_type": "code",
      "source": [
        "# JSON data module\n",
        "# converting dictionary(python obj) to json\n",
        "\n",
        "import json\n",
        "person={'name':'ali','age':30,'education':'grad-level','cities':['islamabad','lahore'],'alive':True}\n",
        "personJSON=json.dumps(person,indent=4)\n",
        "print(personJSON)\n"
      ],
      "metadata": {
        "colab": {
          "base_uri": "https://localhost:8080/"
        },
        "id": "Hh4bICd4MT5M",
        "outputId": "240b6fa8-db62-47b3-d884-7a410536d1af"
      },
      "execution_count": 58,
      "outputs": [
        {
          "output_type": "stream",
          "name": "stdout",
          "text": [
            "{\n",
            "    \"name\": \"ali\",\n",
            "    \"age\": 30,\n",
            "    \"education\": \"grad-level\",\n",
            "    \"cities\": [\n",
            "        \"islamabad\",\n",
            "        \"lahore\"\n",
            "    ],\n",
            "    \"alive\": true\n",
            "}\n"
          ]
        }
      ]
    },
    {
      "cell_type": "code",
      "source": [
        "import json\n",
        "# writing this data to a file:\n",
        "with open('person.json','w') as file:\n",
        "  json.dump(person,file)"
      ],
      "metadata": {
        "id": "ARTCqtf7NIP1"
      },
      "execution_count": 56,
      "outputs": []
    },
    {
      "cell_type": "code",
      "source": [
        "# converting json to a python obj --->deserialzation\n",
        "with open('person.json','r') as file:\n",
        "  person=json.load(file)\n",
        "  print(person)\n"
      ],
      "metadata": {
        "colab": {
          "base_uri": "https://localhost:8080/"
        },
        "id": "bhPb_RkaNrpq",
        "outputId": "ebb7cd7a-1977-4183-cdb1-c71e0b3278cf"
      },
      "execution_count": 60,
      "outputs": [
        {
          "output_type": "stream",
          "name": "stdout",
          "text": [
            "{'name': 'ali', 'age': 30, 'education': 'grad-level', 'cities': ['islamabad', 'lahore'], 'alive': True}\n"
          ]
        }
      ]
    }
  ]
}